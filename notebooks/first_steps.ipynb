{
 "cells": [
  {
   "cell_type": "markdown",
   "metadata": {},
   "source": [
    "# First steps with COSIPY\n",
    "\n",
    "This is the first tutorial to get you started with using COSIPY. COSIPY can be run in two ways: Either by running `COSIPY.py` from the command line\n",
    "\n",
    "`\n",
    "$ python COSIPY.py\n",
    "`\n",
    "\n",
    "This will read the model configuration from the files `constants.py` and `config.py`, run the model and save the results to a netcdf file on disk. In this case any customization to the run is done by changing the relevant variable(s) in the previously mentioned files. It is also possible to run COSIPY in an interactive session, or from your own scripts. This is what we are going to go through in these tutorials. In this notebook you'll learn how to:\n",
    "\n",
    "* Setup a simulation for a single gridpoint\n",
    "* Run the simulation and save the results\n",
    "* Do simple visualisations of the results using matplotlib\n",
    "\n",
    "First we have to import the python libraries we are going to use"
   ]
  },
  {
   "cell_type": "code",
   "execution_count": null,
   "metadata": {},
   "outputs": [],
   "source": [
    "# Have to change the cwd for the ipython session, otherwise COSIPY\n",
    "# will look for things in the wrong places.\n",
    "import os\n",
    "import sys\n",
    "# This is not really a good method, if cell is re run we end up in the\n",
    "# wrong directory.\n",
    "os.chdir('./../')\n",
    "sys.path.append(os.getcwd())"
   ]
  },
  {
   "cell_type": "code",
   "execution_count": null,
   "metadata": {},
   "outputs": [],
   "source": [
    "# edu_utils has some quality of life functions\n",
    "from cosipy.utils import edu_utils\n",
    "import numpy as np\n",
    "from matplotlib import pyplot as plt"
   ]
  },
  {
   "cell_type": "code",
   "execution_count": null,
   "metadata": {},
   "outputs": [],
   "source": [
    "# Have to tell matplotlib to plot inline\n",
    "%matplotlib inline"
   ]
  },
  {
   "cell_type": "markdown",
   "metadata": {},
   "source": [
    "# Create input/output files\n",
    "\n",
    "First we have to create the input and output datasets for the simulation. This is handled by the `IOClass` of COSIPY, which is not only responsible for creating the [xarray](http://xarray.pydata.org/en/stable/index.html) datasets holding the input and output data, but also for updating these datasets with new data after a run and saving the output to a netcdf file.\n",
    "\n",
    "Before we initialize the `IO`, it is good to take a look at the variables and constants used by the `IO` module, and also the rest of the model. We can plot the defaults of the most interesting ones using the `print_options` from the `edu_utils`."
   ]
  },
  {
   "cell_type": "code",
   "execution_count": null,
   "metadata": {},
   "outputs": [],
   "source": [
    "edu_utils.print_options()"
   ]
  },
  {
   "cell_type": "markdown",
   "metadata": {},
   "source": [
    "These are loaded from the files `config.py` and `constants.py` located in the root directory of cosipy. We can change any of these variables to customize our simulation. This can by done changing the value of a variable in the previously mentioned files, however for this to take affect we have to reload the `edu_utils` module.  \n",
    "\n",
    "A much simpler way is to store the variable we want to change in in the `opt_dict`. This is a dictionary which is passed along to the different modules of the model and overwrites the default variable. We can specify new values for any number of variables available in the list above. For instance we can change the variable `time_end` to adjust the temporal extent of our simulation:"
   ]
  },
  {
   "cell_type": "code",
   "execution_count": null,
   "metadata": {},
   "outputs": [],
   "source": [
    "# Inititalize an empty dictionary.\n",
    "opt_dict = dict()\n",
    "# Create a key-value pair for time end.\n",
    "opt_dict['time_end'] = '2009-01-08T00:00'"
   ]
  },
  {
   "cell_type": "markdown",
   "metadata": {},
   "source": [
    "We are now ready to initialize the `IOClass` and the datasets holding the input and output data for our simulation. For this we have a utility function `create_IO`, which takes the `opt_dict` and returns an instance of the `IOClass` and the `DATA` and `RESULTS` datasets."
   ]
  },
  {
   "cell_type": "code",
   "execution_count": null,
   "metadata": {},
   "outputs": [],
   "source": [
    "IO, DATA, RESULTS = edu_utils.create_IO(opt_dict)"
   ]
  },
  {
   "cell_type": "markdown",
   "metadata": {},
   "source": [
    "The output above gives us some helpful insight about the data. We can see that the data covers the period 2009-01-01 to 2009-01-31, and that we have specified the integration time to 2009-01-01 to 2009-01-08 by adding a new value to `time_end` in the `opt_dict`. We also see that we have one gridpoint which we will perform the calculations on.\n",
    "\n",
    "It also shows some quality control on the input data, more on this later.\n",
    "\n",
    "<div class=\"alert alert-success\">\n",
    "    <b>Note</b> that we don't have to use the <b>opt_dict</b> as we did above - if we don't, the simulation will run using the default parameters from config.py and constants.py.\n",
    "\n",
    "Also note that the IOClass along with the DATA and RESULTS datasets has to be <b>re-initliazed</b> after a variable has been changed/added to the <b>opt_dict</b>.\n",
    "</div>"
   ]
  },
  {
   "cell_type": "markdown",
   "metadata": {},
   "source": [
    "# Running COSIPY\n",
    "Now we are ready to do a simple point simulation with COSIPY. This example is run on the Zhadang glacier. We can change this by changing the `input_netcdf` via the `opt_dict` to point at the files we want to use. In these tutorials data for Zhadang and Hintereisferner are included.\n"
   ]
  },
  {
   "cell_type": "markdown",
   "metadata": {},
   "source": [
    "We can then run the model by simply calling the `run_model` function from the `edu_utils`"
   ]
  },
  {
   "cell_type": "markdown",
   "metadata": {},
   "source": [
    "<div class=\"alert alert-success\">\n",
    "    <b>Note that this can take some time.</b>\n",
    "</div>"
   ]
  },
  {
   "cell_type": "code",
   "execution_count": null,
   "metadata": {},
   "outputs": [],
   "source": [
    "edu_utils.run_model(DATA, IO, RESULTS, opt_dict)"
   ]
  },
  {
   "cell_type": "markdown",
   "metadata": {},
   "source": [
    "Thats it! Now we are ready to inspect the results."
   ]
  },
  {
   "cell_type": "markdown",
   "metadata": {},
   "source": [
    "# Visualizing the results\n",
    "To get a quick overview of the variables in our dataframe, we can simply call it "
   ]
  },
  {
   "cell_type": "code",
   "execution_count": null,
   "metadata": {},
   "outputs": [],
   "source": [
    "RESULTS"
   ]
  },
  {
   "cell_type": "markdown",
   "metadata": {},
   "source": [
    "We can see that our data is stored in an xarray dataset - a very handy format for interacting with netcdf files in python. To check which data variables are available, one can simply click on the label \"Data Variables\", which will expand a list of the variables.\n",
    "\n",
    "We can quckly plot a variable, the surface mass balance (`surfMB`) for instance:"
   ]
  },
  {
   "cell_type": "code",
   "execution_count": null,
   "metadata": {},
   "outputs": [],
   "source": [
    "RESULTS.surfMB.plot();"
   ]
  },
  {
   "cell_type": "markdown",
   "metadata": {},
   "source": [
    "As you can see, the use of xarray-datasets for storing the data makes it possible to levarage the built in plotting functionality of xarray and quickly visualize the output.\n",
    "\n",
    "For a slightly more advanced plot, one can still make use of matplotlib"
   ]
  },
  {
   "cell_type": "code",
   "execution_count": null,
   "metadata": {},
   "outputs": [],
   "source": [
    "fig, (ax1, ax2) = plt.subplots(figsize=(7,8), nrows=2, sharex=True,\n",
    "                               gridspec_kw = {'height_ratios':[2,1]})\n",
    "RESULTS.surfMB.plot(ax=ax1)\n",
    "RESULTS.TS.plot(ax=ax2, color='C1')\n",
    "# Easier to make use of xarray plotting capabilites and then remove unwanted lables.\n",
    "ax1.set_xlabel('')\n",
    "ax2.set_title('')\n",
    "# Get the time span of our dataset to use for title\n",
    "time_span = RESULTS.time[0].values, RESULTS.time[-1].values\n",
    "time_span = np.datetime_as_string(time_span, unit='m')\n",
    "# Set the title of the plot.\n",
    "ax1.set_title(f'Surface mass balance and Snowfall at Zhadang \\n between {time_span[0]} and' +\\\n",
    "              f' {time_span[1]}')\n",
    "# Fixes the spacing between parts of the plots.\n",
    "fig.tight_layout()"
   ]
  },
  {
   "cell_type": "markdown",
   "metadata": {},
   "source": [
    "**Notice the scale of the surface mass balance.** In the plot above, we see the surface mass blance (blue) and the 2-meter air temperature (orange). Even though the air temperautre stays below 0°C (273.15K) for the entire period, the mass balance is still negative during the day. We will investigate this is the following section."
   ]
  },
  {
   "cell_type": "markdown",
   "metadata": {},
   "source": [
    "<div class=\"alert alert-warning\">\n",
    "    <details>\n",
    "    <Summary><b>Question: Can you think of a variable to plot as a way to explain the positive surface mass balance during the 6th of January?</b> <i>Click me for a hint</i></Summary>\n",
    "        Try plotting the snowfall, i.e. RESULTS.SNOWFALL.plot().\n",
    "    </details>\n",
    "</div>"
   ]
  },
  {
   "cell_type": "code",
   "execution_count": null,
   "metadata": {},
   "outputs": [],
   "source": [
    "# Write your code here\n"
   ]
  },
  {
   "cell_type": "markdown",
   "metadata": {},
   "source": [
    "## A look at what is causing the melt\n",
    "\n",
    "Since the temperature never reaches above zero, melt is not causing the small loss of mass during the days seen in the plot above. Instead it is sublimation, the process when a substance transitions from solid to gas without passing through the liquid state. We can plot the sublimation quickly to confirm this:"
   ]
  },
  {
   "cell_type": "code",
   "execution_count": null,
   "metadata": {},
   "outputs": [],
   "source": [
    "RESULTS.SUBLIMATION.plot();"
   ]
  },
  {
   "cell_type": "markdown",
   "metadata": {},
   "source": [
    "## Next steps\n",
    "[Back to overview](welcome.ipynb)\n",
    "\n",
    "[Sensitivity studies with COSIPY](sensitivity_study.ipynb)"
   ]
  }
 ],
 "metadata": {
  "kernelspec": {
   "display_name": "cosipy",
   "language": "python",
   "name": "cosipy"
  },
  "language_info": {
   "codemirror_mode": {
    "name": "ipython",
    "version": 3
   },
   "file_extension": ".py",
   "mimetype": "text/x-python",
   "name": "python",
   "nbconvert_exporter": "python",
   "pygments_lexer": "ipython3",
   "version": "3.6.13"
  }
 },
 "nbformat": 4,
 "nbformat_minor": 4
}
