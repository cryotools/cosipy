{
 "cells": [
  {
   "cell_type": "markdown",
   "metadata": {},
   "source": [
    "![](https://cryo-tools.org/wp-content/uploads/2019/11/COSIPY-logo-2500px.png)\n",
    "\n",
    "# Welcome to the COSIPY educational notebooks!\n",
    "\n",
    "COSIPY - the **Co**upled **S**nowpack and **I**ce surface energy and mass balance model in **Py**thon - is an open-source model for simulating distributed snow and glacier mass changes.\n",
    "\n",
    "In the following notebooks we will go through some basic concepts of COSIPY, how it works and what you can do with it. \n",
    "\n",
    "If jupyter notebooks are a new concept to you, we recommend you to take a look at [this great introduction](https://edu.oggm.org/en/latest/notebooks_howto.html) from the [OGGM-team](https://oggm.org/).\n",
    "\n",
    "These notebooks can be rendered as a static webpage, or if you want to be able to play around with the model, open them on [MyBinder](https://mybinder.org/) by clicking the following button [![Binder](https://mybinder.org/badge_logo.svg)](https://mybinder.org/v2/gh/Holmgren825/cosipy/edu?filepath=notebooks%2Fwelcome.ipynb)\n"
   ]
  },
  {
   "cell_type": "markdown",
   "metadata": {},
   "source": [
    "## A list of the tutorials\n",
    "- [First steps with COSIPY](first_steps.ipynb) Explains how to setup and run COSIPY on one grid point on a glaicer.\n",
    "- [Sensitivity studies using COSIPY](sensitivity_study.ipynb) Show you how to do a simple sensitivity study using COSIPY.\n",
    "- [Temperature bias experiments](temp_sensitivity.ipynb) Extends on the sensitivity study notebook and explains how to set up experiments to test the temperature sensitivity.\n",
    "- [A distributed run](distributed_run.ipynb) Goes through how to set up a distributed run and briefly discusses how this work."
   ]
  }
 ],
 "metadata": {
  "kernelspec": {
   "display_name": "Python 3",
   "language": "python",
   "name": "python3"
  },
  "language_info": {
   "codemirror_mode": {
    "name": "ipython",
    "version": 3
   },
   "file_extension": ".py",
   "mimetype": "text/x-python",
   "name": "python",
   "nbconvert_exporter": "python",
   "pygments_lexer": "ipython3",
   "version": "3.8.3"
  }
 },
 "nbformat": 4,
 "nbformat_minor": 4
}
