{
 "cells": [
  {
   "cell_type": "markdown",
   "id": "curious-agriculture",
   "metadata": {},
   "source": [
    "# A deep dive into the surface mass balance computation in COSIPY"
   ]
  },
  {
   "cell_type": "markdown",
   "id": "wooden-nickel",
   "metadata": {},
   "source": [
    "In the previous notebooks we've seen how changing different parameters of the model affects the calculation of surface mass balance on our glacier. In order to strengthen our understanding somewhat, in this notebook we will go through how COSIPY is calculating the surface mass balance during a simulation. Lets start from the top.\n",
    "\n",
    "First we run a simple simulation to have some data to look at."
   ]
  },
  {
   "cell_type": "markdown",
   "id": "surprised-hughes",
   "metadata": {},
   "source": [
    "**The standard imports**"
   ]
  },
  {
   "cell_type": "code",
   "execution_count": null,
   "id": "sticky-berkeley",
   "metadata": {},
   "outputs": [],
   "source": [
    "# Have to change the cwd for the ipython session, otherwise COSIPY\n",
    "# will look for things in the wrong places.\n",
    "import os\n",
    "import sys\n",
    "# This is not really a good method, if cell is re run we end up in the\n",
    "# wrong directory.\n",
    "os.chdir('./../')\n",
    "sys.path.append(os.getcwd())"
   ]
  },
  {
   "cell_type": "code",
   "execution_count": null,
   "id": "hawaiian-cosmetic",
   "metadata": {},
   "outputs": [],
   "source": [
    "from cosipy.utils import edu_utils\n",
    "import numpy as np\n",
    "from matplotlib import pyplot as plt\n",
    "import xarray as xr"
   ]
  },
  {
   "cell_type": "code",
   "execution_count": null,
   "id": "demonstrated-dairy",
   "metadata": {},
   "outputs": [],
   "source": [
    "# Have to tell matplotlib to plot inline\n",
    "%matplotlib inline"
   ]
  },
  {
   "cell_type": "markdown",
   "id": "transparent-consolidation",
   "metadata": {},
   "source": [
    "Then we initiate the IO and datasets and run the simulation."
   ]
  },
  {
   "cell_type": "code",
   "execution_count": null,
   "id": "second-wholesale",
   "metadata": {},
   "outputs": [],
   "source": [
    "# IO and datasetes\n",
    "IO, DATA, RESULTS = edu_utils.create_IO()"
   ]
  },
  {
   "cell_type": "code",
   "execution_count": null,
   "id": "capital-fraud",
   "metadata": {},
   "outputs": [],
   "source": [
    "edu_utils.run_model(DATA=DATA, IO=IO, RESULT=RESULTS)"
   ]
  },
  {
   "cell_type": "markdown",
   "id": "enabling-signature",
   "metadata": {},
   "source": [
    "***\n",
    "## Decomposing the mass balance\n",
    "The surface mass balance, which is measured in meter water equivalent (m w.e.),  is the result of adding the snowfall ($SF$) and deposition ($D$) together and removing the melt ($M$), the sublimation ($s$) and the evaporation/condensation ($e$)\n",
    "\n",
    "$$\n",
    "MB_{surf} = SF + D - M - s - e.\n",
    "$$\n",
    "\n",
    "Note that the evaporation or condensation depends on the sign, it can have either a positive or negative impact on the mass balance We can plot these variables from our `RESULTS` dataset"
   ]
  },
  {
   "cell_type": "code",
   "execution_count": null,
   "id": "crude-swing",
   "metadata": {},
   "outputs": [],
   "source": [
    "fig, ax = plt.subplots(figsize=(12, 5))\n",
    "mb_vars = ['SNOWFALL', 'surfM', 'SUBLIMATION', 'DEPOSITION', 'EVAPORATION',\n",
    "           'CONDENSATION']\n",
    "for var in mb_vars:\n",
    "    RESULTS[var].plot(ax=ax, label=var)\n",
    "ax.set_ylabel('m w.e.')    \n",
    "plt.legend();"
   ]
  },
  {
   "cell_type": "markdown",
   "id": "dominican-approach",
   "metadata": {},
   "source": [
    "For our simulated period the plot shows us that sublimation and snowfall make up the main part of the changing mass balance. But there is also a small contribution from deposition. Others are negligible.\n",
    "\n",
    "### Snowfall\n",
    "The **snowfall** can be calculated in two ways. If it is a direct product of the weather station/gcm data, it is only multiplied by a constant (`mult_factor_RRR`) and then used directly in the surface mass balance calculation. \n",
    "\n",
    "In the other case, when only the rain rates are provided, **snowfall** is derived using a logistic transfer function\n",
    "\n",
    "$$\n",
    "\\mathrm{SNOWFALL} = \\frac{RRR}{1000.0} \\frac{\\rho_{ice}}{\\rho_{fresh\\space snow}} \\frac{-tanh((T2 - t_0) - c_1) \\cdot c_2) + 1}{2}\n",
    "$$\n",
    "\n",
    "where $c_1$ and $c_2$ are the center and spread transfer functions. This smoothly scales the solid precipitation from 100% at $t_0$ and 0% at 2 °C. The density of fresh snow is calculated as a function of the air temperature and the wind velocity."
   ]
  },
  {
   "cell_type": "markdown",
   "id": "suburban-judge",
   "metadata": {},
   "source": [
    "### Melt\n",
    "\n",
    "The surface melt is calculated from the energy available for melt ($q_m$) and the latent heat required for melting ice ($L_s$)\n",
    "\n",
    "$$\n",
    "\\mathrm{M} = \\frac{q_m \\cdot dt}{L_s \\cdot 1000}.\n",
    "$$\n",
    "\n",
    "We multiply with dt to get the total energy available during the time step, and divide with $1000$ to convert the result to m w.e.\n",
    "\n",
    "The energy available for melt is the sum of the radiative fluxes:\n",
    "- Net short wave radiation\n",
    "- Net long wave radiation\n",
    "- Ground heat flux\n",
    "- Rain heat flux \n",
    "- Sensible heat flux\n",
    "- Latent heat flux\n",
    "\n",
    "These are available in the `RESULTS` as well so we can take a look at them"
   ]
  },
  {
   "cell_type": "code",
   "execution_count": null,
   "id": "indonesian-miracle",
   "metadata": {},
   "outputs": [],
   "source": [
    "fig, ax = plt.subplots(figsize=(12, 5))\n",
    "(RESULTS['LWin'] + RESULTS['LWout']).plot(ax=ax, label='LW net')\n",
    "# Short wave net is actually not in the Results but we can calculate it\n",
    "(RESULTS['G'] * (1 - RESULTS['ALBEDO'])).plot(ax=ax, label='SW net')\n",
    "RESULTS['H'].plot(ax=ax, label='Sensible heat flux')\n",
    "RESULTS['LE'].plot(ax=ax, label='Latent heat flux')\n",
    "RESULTS['B'].plot(ax=ax, label='Ground heat flux')\n",
    "RESULTS['QRR'].plot(ax=ax, label='Rain heat flux')\n",
    "ax.set_ylabel('Energy [W m$^{-2}$]')\n",
    "plt.legend();"
   ]
  },
  {
   "cell_type": "markdown",
   "id": "distinct-butterfly",
   "metadata": {},
   "source": [
    "This plot contains a lot of information but there are some key points\n",
    "- During the day, the **net short wave** radiation (orange), which act to heat the surface of the glacier is largely compensated by the negative **ground heat flux**. This means that energy is transported into the glacier, slowly heating it.\n",
    "- During the night, the sign of the **ground heat flux** is reversed when the glacier release energy in the form of outgoing **long wave radiation**.\n",
    "\n",
    "From the look of it, the net energy of the variables above should be close to zero. Let's take a look"
   ]
  },
  {
   "cell_type": "code",
   "execution_count": null,
   "id": "explicit-vision",
   "metadata": {},
   "outputs": [],
   "source": [
    "fig, ax = plt.subplots(figsize=(12, 5))\n",
    "RESULTS['ME'].plot(ax=ax);"
   ]
  },
  {
   "cell_type": "markdown",
   "id": "awful-synthetic",
   "metadata": {},
   "source": [
    "With this in mind we can dissect the radiative fluxes even further. \n",
    "\n",
    "#### Net shortwave radiation and albedo\n",
    "The **net shortwave radiation** is defined as\n",
    "$$\n",
    "q_{sw} = (1-\\alpha) \\cdot q_G\n",
    "$$\n",
    "\n",
    "where $q_G$ is the incoming shortwave radiation and $\\alpha$ is the **albedo**. $q_G$ is given by the input data, while the evolution of the albedo is parametrized according to the approach from Oerlemans and Knap ([1998](https://www.cambridge.org/core/journals/journal-of-glaciology/article/1-year-record-of-global-radiation-and-albedo-in-the-ablation-zone-of-morteratschgletscher-switzerland/F30150EB1AD9D62A0C007C22FFAE7B6A)). In it, the snow albedo is a function of the time since the last snowfall ($s$) and an albedo timescale ($\\tau^*$) that specifies the speed of the degradation of the albedo from that of fresh snow ($\\alpha_s$) to that of firn ($\\alpha_f$)\n",
    "\n",
    "$$\n",
    "\\alpha_{snow} = \\alpha_f + (\\alpha_s - \\alpha_f)\\space exp \\left(\\frac{s}{\\tau^*}\\right).\n",
    "$$\n",
    "\n",
    "As the thickness of the snowpack ($d$) decreases, the surface albedo should approach that of the albedo of ice ($\\alpha_i$). This is done by introducing a characteristic snow depth scale ($d^*$) to employ what is known as e-folding. With this, the full surface albedo can be written as \n",
    "\n",
    "$$\n",
    "\\alpha = \\alpha_s + (\\alpha_i - \\alpha_s)\\space exp \\left(\\frac{-d}{d^*}\\right).\n",
    "$$\n",
    "\n",
    "The surface albedo is reset to that of fresh snow when new snow accumulation exceeds a certain threshold.\n",
    "\n",
    "The fraction of the net shortwave radiation that penetrates the glacier decays with the depth ($z$) from the surface according to\n",
    "\n",
    "$$\n",
    "Q(z, t) = \\lambda_r q_{sw} \\space exp(-z \\beta)\n",
    "$$\n",
    "\n",
    "where $\\lambda_r$ is the fraction of absorbed radiation and $\\beta$ the extinction coefficient (both depending on if the integrated depth is snow or ice). \n",
    "\n",
    "<div class=\"alert alert-success\">\n",
    "   Some of the constants in the equations above are possible to configure using the opt_dict. Remember that we changed one of them, the albedo of fresh snow, in the sensitivity study. \n",
    "</div>"
   ]
  },
  {
   "cell_type": "markdown",
   "id": "waiting-duncan",
   "metadata": {},
   "source": [
    "#### Net longwave radiation\n",
    "\n",
    "The **net longwave radiation** can be handled in two different ways:\n",
    "If the input data contains the incoming longwave radiation, the net is calculated as\n",
    "\n",
    "$$\n",
    "q_{lw} = q_{lw_{in}} - \\epsilon_s \\sigma T_0^4,\n",
    "$$\n",
    "\n",
    "where $\\epsilon_s$ is the surface emissivity, in our case constant $\\sim 1$.\n",
    "\n",
    "If the input data doesn't contain the incoming longwave radiation, this flux  will be parametrized using the Stefan-Boltzman law with the means of the air temperature ($T_{zt}$) and the atmospheric emissivity\n",
    "\n",
    "$$\n",
    "\\epsilon_a = \\epsilon_{cs}(1-N^2) + \\epsilon_{cl}N^2,\n",
    "$$\n",
    "\n",
    "where $N$ is the cloud cover fraction and $\\epsilon_{cs}$ and $\\epsilon_{cl}$ are the clear-sky and cloud emissivity. The cloud emissivity is kept constant while the clear-sky emissivity is given by\n",
    "\n",
    "$$\\epsilon_{cs} = 0.23 + 0.433(e_{zt}/T_{zt})^{1/8}.$$\n",
    "\n",
    "where $e_{zt}$ is the water vapour pressure.\n",
    "\n",
    "In our case, the input data does not contain any incoming longwave radiation and we thus rely on the cloud cover fraction and the air temperature for the parameterization."
   ]
  },
  {
   "cell_type": "code",
   "execution_count": null,
   "id": "1318ce87-88dc-49ff-b3ec-41795acf35a6",
   "metadata": {},
   "outputs": [],
   "source": [
    "fig, ax = plt.subplots(figsize=(12, 5))\n",
    "lns1 = (RESULTS['LWin'] + RESULTS['LWout']).plot(ax=ax, label='LW net', c='C0')\n",
    "ax2 = ax.twinx()\n",
    "lns2 = DATA.N.plot(ax=ax2, c='C1', label='N')\n",
    "ax2.set_title('')\n",
    "lns = lns1+lns2\n",
    "labs = [l.get_label() for l in lns]\n",
    "ax.set_ylabel('Energy [W m$^{-2}$]')\n",
    "ax.legend(lns, labs);"
   ]
  },
  {
   "cell_type": "markdown",
   "id": "duplicate-cooperative",
   "metadata": {},
   "source": [
    "#### Sensible and latent heat flux\n",
    "\n",
    "The sensible and latent heat flux ($q_{sh}$ & $q_{lh}$) are parametrized using a bulk approach of the flux-gradient similarity. This is done since the model only uses meteorological variables from one height. By using the Stanton number ($C_H$) and Dalton number ($C_E$) the turbulent fluxes can be calculated as\n",
    "$$\n",
    "q_{sh} = \\rho_a c_p C_H u_{z_v} (T_{z_t} - T_0)\n",
    "$$\n",
    "and\n",
    "$$\n",
    "q_{lh} = \\rho_a L_v C_E u_{z_v} (q_{z_q} - q_0)\n",
    "$$\n",
    "with the following constants \n",
    "\n",
    "|Symbol | Details|\n",
    "|:---|:---|\n",
    "|$\\rho_a$|  Air density|\n",
    "|$c_p$|  Specific heat of air|\n",
    "|$L_v$|   Latent heat of vaporisation, (replaced by latent<BR> heat of sublimation $L_s$ if $T_0 < T_m$)|\n",
    "|$u_{z_v}$|  Wind velocity at height $z_t$|\n",
    "|$T_{z_t}$| Temperature at height $z_t$|\n",
    "|$q_{z_t}$| Mixing ratio at height $z_t$|\n",
    "|$q_{0}$| Mixing ratio at the surface|"
   ]
  },
  {
   "cell_type": "markdown",
   "id": "cd63d40e-d6e3-48aa-983e-15b0596f0f96",
   "metadata": {},
   "source": [
    "The bulk coefficients ($C_H$ & $C_E$) are independent of the wind speed and only depend on the stability of the atmosphere and the roughness of the surface, $z_{0_v}$. For snow the roughness length is a function of time, which increases linearly from that of fresh snow to that of firn. For ice the roughness length is constant.\n",
    "\n",
    "\n",
    "<div class=\"alert alert-warning\">\n",
    "    <details><summary><b>\n",
    "        With your knowledge from the previous notebooks, can you design an experiment to investigate the dependence of the roughness length on the calculations of the turbulent fluxes?\n",
    "        </b> <i>Click me for a hint!</i></summary>\n",
    "        Begin by taking a look at the options (edu_utils.print_options()). Then use the appropriate variables for a sensitivity study, much like in the previous  notebooks.\n",
    "</div>"
   ]
  },
  {
   "cell_type": "code",
   "execution_count": null,
   "id": "dcf4eb57-be23-40a6-99a1-1cbab3fd5da9",
   "metadata": {},
   "outputs": [],
   "source": [
    "# Write your code here.\n"
   ]
  },
  {
   "cell_type": "code",
   "execution_count": null,
   "id": "26bd36f7-a5d4-4666-a2f2-a7355e4ab0e2",
   "metadata": {},
   "outputs": [],
   "source": [
    "# Write your code here.\n"
   ]
  },
  {
   "cell_type": "code",
   "execution_count": null,
   "id": "15b4bcf0-968f-4bdd-b240-dd99fd42601d",
   "metadata": {},
   "outputs": [],
   "source": [
    "# Write your code here. You can add more cells if needed.\n"
   ]
  },
  {
   "cell_type": "markdown",
   "id": "overall-dryer",
   "metadata": {},
   "source": [
    "#### Ground heat flux"
   ]
  },
  {
   "cell_type": "markdown",
   "id": "suffering-variable",
   "metadata": {},
   "source": [
    "### Sublimation\n",
    "\n"
   ]
  },
  {
   "cell_type": "markdown",
   "id": "acting-furniture",
   "metadata": {},
   "source": [
    "## Next steps\n",
    "[Back to overview](welcome.ipynb)\n"
   ]
  }
 ],
 "metadata": {
  "kernelspec": {
   "display_name": "Python 3 (ipykernel)",
   "language": "python",
   "name": "python3"
  },
  "language_info": {
   "codemirror_mode": {
    "name": "ipython",
    "version": 3
   },
   "file_extension": ".py",
   "mimetype": "text/x-python",
   "name": "python",
   "nbconvert_exporter": "python",
   "pygments_lexer": "ipython3",
   "version": "3.6.13"
  }
 },
 "nbformat": 4,
 "nbformat_minor": 5
}
