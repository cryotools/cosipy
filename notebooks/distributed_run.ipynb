{
 "cells": [
  {
   "cell_type": "markdown",
   "id": "configured-banks",
   "metadata": {},
   "source": [
    "# A first distributed simulation\n",
    "\n",
    "Until now, we've only been working with single grid point simulations. This is fine for learning and playing around with different configurations of the model since the runs takes less time. A more typical use case of COSIPY is to run a distributed simulation over the entire surface of the glacier, which gives us a much more detailed view of the glacier."
   ]
  },
  {
   "cell_type": "code",
   "execution_count": null,
   "id": "amazing-april",
   "metadata": {},
   "outputs": [],
   "source": [
    "# Have to change the cwd for the ipython session, otherwise COSIPY\n",
    "# will look for things in the wrong places.\n",
    "import os\n",
    "import sys\n",
    "# This is not really a good method, if cell is re run we end up in the\n",
    "# wrong directory.\n",
    "os.chdir('./../')\n",
    "sys.path.append(os.getcwd())"
   ]
  },
  {
   "cell_type": "code",
   "execution_count": null,
   "id": "universal-repair",
   "metadata": {},
   "outputs": [],
   "source": [
    "from cosipy.utils import edu_utils\n",
    "# cfg gives us the NAMELIST\n",
    "import cfg\n",
    "import numpy as np\n",
    "from matplotlib import pyplot as plt\n",
    "import xarray as xr"
   ]
  },
  {
   "cell_type": "code",
   "execution_count": null,
   "id": "certain-millennium",
   "metadata": {},
   "outputs": [],
   "source": [
    "# Have to tell matplotlib to plot inline\n",
    "%matplotlib inline"
   ]
  },
  {
   "cell_type": "markdown",
   "id": "identified-findings",
   "metadata": {},
   "source": [
    "Setting up a distributed simulation is fairly easy. All we need is 2D input data (3D with time). This data could either be in the form of gcm/reanalysis output or interpolated from station data. For the tutorials we provide a distributed input file `Zhadang_ERA5_2009_dst.nc` for Zhadang. We can take a look at it"
   ]
  },
  {
   "cell_type": "code",
   "execution_count": null,
   "id": "funky-marker",
   "metadata": {},
   "outputs": [],
   "source": [
    "# Use the namelist for path to data and input netcdf. Have to add\n",
    "# input in between.\n",
    "input_path = cfg.NAMELIST['data_path'] + 'input/'\n",
    "with xr.open_dataset(input_path+'Zhadang/Zhadang_ERA5_2009_dst.nc') as ds:\n",
    "    ds = ds.isel(time=slice(0, -1)).load()\n",
    "ds"
   ]
  },
  {
   "cell_type": "markdown",
   "id": "informed-polish",
   "metadata": {},
   "source": [
    "As you can see in the output above, the input data contains 91 gridpoints. However, only 17 of these are actually within the glacier boundaries.\n",
    "\n",
    "<div class=\"alert alert-warning\">\n",
    "    <details>\n",
    "        <Summary> <b>Can you figure out a way to confirm the above statement?</b> <i>Click me for a hint</i></Summary>\n",
    "        For the total number of gridpoints it is as simple as taking the product of the number of longitudes and latitudes. For the points within the glacier, take a look at the mask. You can plot it or \"show\" the data by pressing the storage symbol in the output above.\n",
    "    </details>\n",
    "</div>"
   ]
  },
  {
   "cell_type": "code",
   "execution_count": null,
   "id": "nonprofit-million",
   "metadata": {},
   "outputs": [],
   "source": [
    "# Empty cell for the reader\n"
   ]
  },
  {
   "cell_type": "markdown",
   "id": "pleased-oxide",
   "metadata": {},
   "source": [
    "## Running a distributed simulation\n",
    "\n",
    "Now that we've confirmed that the data is of the right dimension, we can initialize the datasets needed to run the simulation. First we have to adapt the `NAMELIST` to point to the distributed input data."
   ]
  },
  {
   "cell_type": "code",
   "execution_count": null,
   "id": "least-robinson",
   "metadata": {},
   "outputs": [],
   "source": [
    "# Copoy the namelist.\n",
    "NAMELIST = cfg.NAMELIST.copy()\n",
    "NAMELIST['input_netcdf']"
   ]
  },
  {
   "cell_type": "code",
   "execution_count": null,
   "id": "convertible-damages",
   "metadata": {},
   "outputs": [],
   "source": [
    "# We change the input_netcdf\n",
    "NAMELIST['input_netcdf'] = 'Zhadang/Zhadang_ERA5_2009_dst.nc'\n",
    "NAMELIST['input_netcdf']"
   ]
  },
  {
   "cell_type": "markdown",
   "id": "eligible-estonia",
   "metadata": {},
   "source": [
    "With this done we can initialize the datasets needed for running the model"
   ]
  },
  {
   "cell_type": "code",
   "execution_count": null,
   "id": "north-christmas",
   "metadata": {},
   "outputs": [],
   "source": [
    "IO, DATA, RESULTS = edu_utils.create_IO(NAMELIST)"
   ]
  },
  {
   "cell_type": "markdown",
   "id": "catholic-lotus",
   "metadata": {},
   "source": [
    "The output above also confirms that we have 17 glacier gridpoints in our input data.\n",
    "\n",
    "## Running the model\n",
    "We are now ready to run the model. This is just as simple as in the one dimensional case. In the background the results of each gridpoint is calculated individually, we're basically stacking multiple point simulations next to each other. `edu_utils.run_model` distributes the work so that gridpoints are executed in parallel. Note however that this still might take some time."
   ]
  },
  {
   "cell_type": "code",
   "execution_count": null,
   "id": "material-shoot",
   "metadata": {},
   "outputs": [],
   "source": [
    "edu_utils.run_model(DATA, IO, NAMELIST, RESULTS)"
   ]
  },
  {
   "cell_type": "markdown",
   "id": "intelligent-sunglasses",
   "metadata": {},
   "source": [
    "We can as before take a quick look at the results. First however, we have to reduce the dimensions of the data. A simple way is to select a single timestep"
   ]
  },
  {
   "cell_type": "code",
   "execution_count": null,
   "id": "answering-ensemble",
   "metadata": {},
   "outputs": [],
   "source": [
    "RESULTS.isel(time=1).MB.plot();"
   ]
  },
  {
   "cell_type": "markdown",
   "id": "metropolitan-regression",
   "metadata": {},
   "source": [
    "Alternatively we can also reduce one of the dimensions by taking the mean of it, creating a so called Hovmöller diagram"
   ]
  },
  {
   "cell_type": "code",
   "execution_count": null,
   "id": "approved-debate",
   "metadata": {},
   "outputs": [],
   "source": [
    "RESULTS.MB.mean(dim='lon').plot();"
   ]
  },
  {
   "cell_type": "markdown",
   "id": "incorporated-anthony",
   "metadata": {},
   "source": [
    "## Next steps\n",
    "[Back to overview](welcome.ipynb)\n"
   ]
  }
 ],
 "metadata": {
  "kernelspec": {
   "display_name": "cosipy",
   "language": "python",
   "name": "cosipy"
  },
  "language_info": {
   "codemirror_mode": {
    "name": "ipython",
    "version": 3
   },
   "file_extension": ".py",
   "mimetype": "text/x-python",
   "name": "python",
   "nbconvert_exporter": "python",
   "pygments_lexer": "ipython3",
   "version": "3.6.13"
  }
 },
 "nbformat": 4,
 "nbformat_minor": 5
}
