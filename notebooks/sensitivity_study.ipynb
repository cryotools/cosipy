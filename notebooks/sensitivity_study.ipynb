{
 "cells": [
  {
   "cell_type": "markdown",
   "id": "selective-rapid",
   "metadata": {},
   "source": [
    "# Sensitivity studies using COSIPY\n",
    "\n",
    "In this tutorial we will go through how to do a sensitivity study of the surface mass balance of a glacier using COSIPY. For a sensitivity study we want to check how much changing a constant affects the calculation of a certain variable. We can do this on essentially any variable, but in our case we will focus on the surface mass balance of the glacier.\n",
    "\n",
    "Just as in [First steps in COSIPY](first_steps.ipynb) we begin with importing some useful libraries and the cosipy functions we need."
   ]
  },
  {
   "cell_type": "code",
   "execution_count": 1,
   "id": "oriented-mining",
   "metadata": {},
   "outputs": [],
   "source": [
    "# Have to change the cwd for the ipython session, otherwise COSIPY\n",
    "# will look for things in the wrong places.\n",
    "import os\n",
    "import sys\n",
    "# This is not really a good method, if cell is re run we end up in the\n",
    "# wrong directory.\n",
    "os.chdir('./../')\n",
    "sys.path.append(os.getcwd())"
   ]
  },
  {
   "cell_type": "code",
   "execution_count": 2,
   "id": "heavy-duration",
   "metadata": {},
   "outputs": [],
   "source": [
    "from cosipy.utils import edu_utils\n",
    "# cfg gives us the NAMELIST\n",
    "import numpy as np\n",
    "from matplotlib import pyplot as plt"
   ]
  },
  {
   "cell_type": "code",
   "execution_count": 3,
   "id": "humanitarian-equality",
   "metadata": {},
   "outputs": [],
   "source": [
    "# Have to tell matplotlib to plot inline\n",
    "%matplotlib inline"
   ]
  },
  {
   "cell_type": "markdown",
   "id": "impaired-dragon",
   "metadata": {},
   "source": [
    "## Choosing the constant to investigate\n",
    "\n",
    "Before we can continue with setting up the simulations, we have to choose the constant we want to change. As you might remember, the configurable constants used by COSIPY can be displayed"
   ]
  },
  {
   "cell_type": "code",
   "execution_count": 4,
   "id": "mathematical-announcement",
   "metadata": {},
   "outputs": [
    {
     "data": {
      "text/html": [
       "<div>\n",
       "<style scoped>\n",
       "    .dataframe tbody tr th:only-of-type {\n",
       "        vertical-align: middle;\n",
       "    }\n",
       "\n",
       "    .dataframe tbody tr th {\n",
       "        vertical-align: top;\n",
       "    }\n",
       "\n",
       "    .dataframe thead th {\n",
       "        text-align: right;\n",
       "    }\n",
       "</style>\n",
       "<table border=\"1\" class=\"dataframe\">\n",
       "  <thead>\n",
       "    <tr style=\"text-align: right;\">\n",
       "      <th></th>\n",
       "      <th>value</th>\n",
       "    </tr>\n",
       "  </thead>\n",
       "  <tbody>\n",
       "    <tr>\n",
       "      <th>albedo_firn</th>\n",
       "      <td>0.55</td>\n",
       "    </tr>\n",
       "    <tr>\n",
       "      <th>albedo_fresh_snow</th>\n",
       "      <td>0.85</td>\n",
       "    </tr>\n",
       "    <tr>\n",
       "      <th>albedo_ice</th>\n",
       "      <td>0.3</td>\n",
       "    </tr>\n",
       "    <tr>\n",
       "      <th>albedo_method</th>\n",
       "      <td>Oerlemans98</td>\n",
       "    </tr>\n",
       "    <tr>\n",
       "      <th>densification_method</th>\n",
       "      <td>Boone</td>\n",
       "    </tr>\n",
       "    <tr>\n",
       "      <th>input_netcdf</th>\n",
       "      <td>Zhadang/Zhadang_ERA5_2009.nc</td>\n",
       "    </tr>\n",
       "    <tr>\n",
       "      <th>output_netcdf</th>\n",
       "      <td>Zhadang_ERA5_20090101-20090110.nc</td>\n",
       "    </tr>\n",
       "    <tr>\n",
       "      <th>penetrating_method</th>\n",
       "      <td>Bintanja95</td>\n",
       "    </tr>\n",
       "    <tr>\n",
       "      <th>roughness_firn</th>\n",
       "      <td>4</td>\n",
       "    </tr>\n",
       "    <tr>\n",
       "      <th>roughness_fresh_snow</th>\n",
       "      <td>0.24</td>\n",
       "    </tr>\n",
       "    <tr>\n",
       "      <th>roughness_ice</th>\n",
       "      <td>1.7</td>\n",
       "    </tr>\n",
       "    <tr>\n",
       "      <th>roughness_method</th>\n",
       "      <td>Moelg12</td>\n",
       "    </tr>\n",
       "    <tr>\n",
       "      <th>saturation_water_vapour_method</th>\n",
       "      <td>Sonntag90</td>\n",
       "    </tr>\n",
       "    <tr>\n",
       "      <th>sfc_temperature_method</th>\n",
       "      <td>SLSQP</td>\n",
       "    </tr>\n",
       "    <tr>\n",
       "      <th>stability_correction</th>\n",
       "      <td>Ri</td>\n",
       "    </tr>\n",
       "    <tr>\n",
       "      <th>thermal_conductivity_method</th>\n",
       "      <td>bulk</td>\n",
       "    </tr>\n",
       "    <tr>\n",
       "      <th>time_end</th>\n",
       "      <td>2009-01-10T00:00</td>\n",
       "    </tr>\n",
       "    <tr>\n",
       "      <th>time_start</th>\n",
       "      <td>2009-01-01T06:00</td>\n",
       "    </tr>\n",
       "  </tbody>\n",
       "</table>\n",
       "</div>"
      ],
      "text/plain": [
       "                                                            value\n",
       "albedo_firn                                                  0.55\n",
       "albedo_fresh_snow                                            0.85\n",
       "albedo_ice                                                    0.3\n",
       "albedo_method                                         Oerlemans98\n",
       "densification_method                                        Boone\n",
       "input_netcdf                         Zhadang/Zhadang_ERA5_2009.nc\n",
       "output_netcdf                   Zhadang_ERA5_20090101-20090110.nc\n",
       "penetrating_method                                     Bintanja95\n",
       "roughness_firn                                                  4\n",
       "roughness_fresh_snow                                         0.24\n",
       "roughness_ice                                                 1.7\n",
       "roughness_method                                          Moelg12\n",
       "saturation_water_vapour_method                          Sonntag90\n",
       "sfc_temperature_method                                      SLSQP\n",
       "stability_correction                                           Ri\n",
       "thermal_conductivity_method                                  bulk\n",
       "time_end                                         2009-01-10T00:00\n",
       "time_start                                       2009-01-01T06:00"
      ]
     },
     "execution_count": 4,
     "metadata": {},
     "output_type": "execute_result"
    }
   ],
   "source": [
    "edu_utils.print_options()"
   ]
  },
  {
   "cell_type": "markdown",
   "id": "opening-opposition",
   "metadata": {},
   "source": [
    "This contains a lot of different things and can be a bit overwhelming at first. It contains variables used in the configuration of where to store files, constants used in some of the sub-modules, and the parameterizations used.\n",
    "\n",
    "A good guess for a variable affecting the surface mass balance in the winter is the albedo of fresh snow"
   ]
  },
  {
   "cell_type": "markdown",
   "id": "considered-monster",
   "metadata": {},
   "source": [
    "Let's say we want to change this 10% in either direction. Since the model is overwriting the constants from `opt_dict`, the plan is to change the albedo of fresh snow in there before we use it to initialize the model."
   ]
  },
  {
   "cell_type": "markdown",
   "id": "significant-timer",
   "metadata": {},
   "source": [
    "### Initializing the opt_dicts and data files\n",
    "\n",
    "For this experiment we want to do three runs, one default and two with nudged albedo values. We begin by initializing two instances of the `opt_dict`. Remember that we don't need an `opt_dict` for the default run. \n"
   ]
  },
  {
   "cell_type": "code",
   "execution_count": 5,
   "id": "verified-commission",
   "metadata": {},
   "outputs": [],
   "source": [
    "# First we fetch the default albedo.\n",
    "default_albedo = edu_utils.OPTIONS['albedo_fresh_snow']\n",
    "# Up 10%\n",
    "opt_dict_up = {'albedo_fresh_snow': default_albedo * 1.1}\n",
    "# Down 10%\n",
    "opt_dict_dn = {'albedo_fresh_snow': default_albedo * 0.9} "
   ]
  },
  {
   "cell_type": "markdown",
   "id": "apart-collect",
   "metadata": {},
   "source": [
    "Did it work?"
   ]
  },
  {
   "cell_type": "code",
   "execution_count": 6,
   "id": "sapphire-olive",
   "metadata": {},
   "outputs": [
    {
     "name": "stdout",
     "output_type": "stream",
     "text": [
      "Up: 0.935\n",
      "Default: 0.850\n",
      "Down: 0.765\n",
      "\n"
     ]
    }
   ],
   "source": [
    "print(f\"Up: {opt_dict_up['albedo_fresh_snow']:.3f}\\nDefault: \\\n",
    "{default_albedo:.3f}\\nDown: \\\n",
    "{opt_dict_dn['albedo_fresh_snow']:.3f}\\n\")"
   ]
  },
  {
   "cell_type": "markdown",
   "id": "regulation-reservation",
   "metadata": {},
   "source": [
    "<div class=\"alert alert-warning\">\n",
    "    <b>Question: Can you figure out what to change in the cells above to alter the albedo by 5% instead of 10%?</b>\n",
    "</div>"
   ]
  },
  {
   "cell_type": "markdown",
   "id": "optimum-championship",
   "metadata": {},
   "source": [
    "We can now go on to creating the files used for storing the data and results of the simulation. Just as with the namlist we need one set of instances for each experiment we want to run, in this case three. "
   ]
  },
  {
   "cell_type": "code",
   "execution_count": 7,
   "id": "durable-premiere",
   "metadata": {},
   "outputs": [
    {
     "name": "stdout",
     "output_type": "stream",
     "text": [
      "\n",
      " Maximum available time interval from 2009-01-01T00:00 until 2009-01-31T23:00. Time steps: 744 \n",
      "\n",
      "\n",
      "--------------------------------------------------------------\n",
      "\t Integration from 2009-01-01T06:00 to 2009-01-10T00:00\n",
      "--------------------------------------------------------------\n",
      "\n",
      "--------------------------------------------------------------\n",
      "Checking input data .... \n",
      "\n",
      "Temperature data (T2) ... ok \n",
      "Please check the input data, its seems they are out of range T2 MAX: 261.54 MIN: 238.37 \n",
      "\n",
      "Relative humidity data (RH2) ... ok \n",
      "Shortwave data (G) ... ok \n",
      "Wind velocity data (U2) ... ok \n",
      "Precipitation data (RRR) ... ok \n",
      "Cloud cover data (N) ... ok \n",
      "Pressure data (PRES) ... ok \n",
      "Snowfall data (SNOWFALL) ... ok \n",
      "\n",
      " Glacier gridpoints: 1 \n",
      "\n",
      "\n",
      "\n",
      "\n",
      "Output dataset ... ok\n",
      "\n",
      " Maximum available time interval from 2009-01-01T00:00 until 2009-01-31T23:00. Time steps: 744 \n",
      "\n",
      "\n",
      "--------------------------------------------------------------\n",
      "\t Integration from 2009-01-01T06:00 to 2009-01-10T00:00\n",
      "--------------------------------------------------------------\n",
      "\n",
      "--------------------------------------------------------------\n",
      "Checking input data .... \n",
      "\n",
      "Temperature data (T2) ... ok \n",
      "Please check the input data, its seems they are out of range T2 MAX: 261.54 MIN: 238.37 \n",
      "\n",
      "Relative humidity data (RH2) ... ok \n",
      "Shortwave data (G) ... ok \n",
      "Wind velocity data (U2) ... ok \n",
      "Precipitation data (RRR) ... ok \n",
      "Cloud cover data (N) ... ok \n",
      "Pressure data (PRES) ... ok \n",
      "Snowfall data (SNOWFALL) ... ok \n",
      "\n",
      " Glacier gridpoints: 1 \n",
      "\n",
      "\n",
      "\n",
      "\n",
      "Output dataset ... ok\n",
      "\n",
      " Maximum available time interval from 2009-01-01T00:00 until 2009-01-31T23:00. Time steps: 744 \n",
      "\n",
      "\n",
      "--------------------------------------------------------------\n",
      "\t Integration from 2009-01-01T06:00 to 2009-01-10T00:00\n",
      "--------------------------------------------------------------\n",
      "\n",
      "--------------------------------------------------------------\n",
      "Checking input data .... \n",
      "\n",
      "Temperature data (T2) ... ok \n",
      "Please check the input data, its seems they are out of range T2 MAX: 261.54 MIN: 238.37 \n",
      "\n",
      "Relative humidity data (RH2) ... ok \n",
      "Shortwave data (G) ... ok \n",
      "Wind velocity data (U2) ... ok \n",
      "Precipitation data (RRR) ... ok \n",
      "Cloud cover data (N) ... ok \n",
      "Pressure data (PRES) ... ok \n",
      "Snowfall data (SNOWFALL) ... ok \n",
      "\n",
      " Glacier gridpoints: 1 \n",
      "\n",
      "\n",
      "\n",
      "\n",
      "Output dataset ... ok\n"
     ]
    }
   ],
   "source": [
    "# Default\n",
    "IO_def, DATA_def, RESULTS_def = edu_utils.create_IO()\n",
    "# Up\n",
    "IO_up, DATA_up, RESULTS_up = edu_utils.create_IO(opt_dict_up)\n",
    "# Down\n",
    "IO_dn, DATA_dn, RESULTS_dn = edu_utils.create_IO(opt_dict_dn)"
   ]
  },
  {
   "cell_type": "markdown",
   "id": "dependent-tanzania",
   "metadata": {},
   "source": [
    "## Running multiple simulations\n",
    "\n",
    "We have now prepared the namelists and data/results files for the three different runs we want to do. The runs can initilaized as it was done in the [First steps in COSIPY](first_steps.ipynb) notebook, and changing the namelist and data/results variables manually for each run. But to save us writing the same code multiple times, and to give some inspiration how one might go about running a higher number of simulations, we will now do it in a loop. First we have to put all we need into a list"
   ]
  },
  {
   "cell_type": "code",
   "execution_count": 8,
   "id": "lesbian-circumstances",
   "metadata": {},
   "outputs": [],
   "source": [
    "# List of lists with our experiments\n",
    "exp_list = [[DATA_def, IO_def, RESULTS_def, None],\n",
    "            [DATA_dn, IO_dn, RESULTS_dn, opt_dict_dn],\n",
    "            [DATA_up, IO_up, RESULTS_up, opt_dict_up]\n",
    "           ]"
   ]
  },
  {
   "cell_type": "markdown",
   "id": "lucky-transfer",
   "metadata": {},
   "source": [
    "We can index this list to get the results of experiment 2 as `exp_list[1][2]`."
   ]
  },
  {
   "cell_type": "markdown",
   "id": "aerial-hydrogen",
   "metadata": {},
   "source": [
    "<div class=\"alert alert-info\">\n",
    "    <b>Remember that python is zero-indexed.</b>\n",
    "</div>"
   ]
  },
  {
   "cell_type": "markdown",
   "id": "identified-geneva",
   "metadata": {},
   "source": [
    "Let's setup the loop and run the simulations. This will take some time."
   ]
  },
  {
   "cell_type": "code",
   "execution_count": 9,
   "id": "copyrighted-advance",
   "metadata": {},
   "outputs": [
    {
     "name": "stdout",
     "output_type": "stream",
     "text": [
      "Model is running, check progress here: Progress is currently diabled\n",
      "Finished!\n",
      "Model is running, check progress here: Progress is currently diabled\n",
      "Finished!\n",
      "Model is running, check progress here: Progress is currently diabled\n",
      "Finished!\n"
     ]
    }
   ],
   "source": [
    "for exp in exp_list:\n",
    "    # Call run_model once for each experiment\n",
    "    edu_utils.run_model(exp[0], exp[1], exp[2], exp[3])"
   ]
  },
  {
   "cell_type": "markdown",
   "id": "exotic-frame",
   "metadata": {},
   "source": [
    "## A look at the results\n",
    "\n",
    "When the simulations has finished running it is time to take a look at the results. Since we're keeping the results in `exp_list` we can again leverage the power of loops to save us writing some code"
   ]
  },
  {
   "cell_type": "code",
   "execution_count": 10,
   "id": "located-cosmetic",
   "metadata": {},
   "outputs": [
    {
     "data": {
      "image/png": "[encoded data removed]",
      "text/plain": [
       "<Figure size 864x360 with 1 Axes>"
      ]
     },
     "metadata": {
      "needs_background": "light"
     },
     "output_type": "display_data"
    }
   ],
   "source": [
    "labels = ['Default', '-10%', '+10%']\n",
    "fig, ax = plt.subplots(figsize=(12, 5))\n",
    "for exp, label in zip(exp_list, labels):\n",
    "    # Get the data and plot it RESULTS are kept at the third spot, index 2\n",
    "    exp[2].surfMB.plot(ax=ax, label=label)\n",
    "plt.legend(); "
   ]
  },
  {
   "cell_type": "markdown",
   "id": "excellent-allowance",
   "metadata": {},
   "source": [
    "<div class=\"alert alert-warning\">\n",
    "<details>\n",
    "    <summary>\n",
    "    <b>Question: Can you explain why the surface mass balance looks like it does?</b> <i>Click me for an explanation!</i></summary>\n",
    "<p>We are looking at three different surface mass balance series calculated with three different values for the albedo of fresh snow. The regular dips in the surface mass balance is the diurnal cycle, the glacier lose mass during the day while it remains constant during the night. When the albedo is increased the surface of the glacier will reflect more of the incoming solar radiation during the day. This leads to a decrease in the energy available for melt, thus reducing the melt and resulting in a less negative surface mass balance.\n",
    "<br><br>\n",
    "On the other hand, when the albedo is decreased the reflectivity of the glacier is reduced. This increases the energy available for melt which is why the surface mass balance is more negative.</p>\n",
    "</details>\n",
    "</div>"
   ]
  },
  {
   "cell_type": "markdown",
   "id": "amended-position",
   "metadata": {},
   "source": [
    "*Here you can write your answer (double click to open the cell)* \n"
   ]
  },
  {
   "cell_type": "markdown",
   "id": "white-account",
   "metadata": {},
   "source": [
    "## Another sensitivity study\n",
    "\n",
    "Try to come up with another variable to use for a sensitivity study. The loop for running the simulation is provided below, but you have to initialise the opt_dict(s), data and result datasets and the list containing your experiments."
   ]
  },
  {
   "cell_type": "code",
   "execution_count": null,
   "id": "departmental-integration",
   "metadata": {},
   "outputs": [],
   "source": [
    "# Pick a variable to nudge\n"
   ]
  },
  {
   "cell_type": "code",
   "execution_count": null,
   "id": "filled-french",
   "metadata": {},
   "outputs": [],
   "source": [
    "# Initialise the opt_dict(s) and datasets.\n"
   ]
  },
  {
   "cell_type": "code",
   "execution_count": null,
   "id": "ordered-chassis",
   "metadata": {},
   "outputs": [],
   "source": [
    "# Pack it all into a list as above\n"
   ]
  },
  {
   "cell_type": "markdown",
   "id": "consistent-liberal",
   "metadata": {},
   "source": [
    "<div class=\"alert alert-info\">\n",
    "    Are you ready to run the simulation?\n",
    "</div>"
   ]
  },
  {
   "cell_type": "code",
   "execution_count": null,
   "id": "mechanical-titanium",
   "metadata": {},
   "outputs": [],
   "source": [
    "for exp in exp_list:\n",
    "    # Call run_model once for each experiment\n",
    "    edu_utils.run_model(exp[0], exp[1], exp[2], exp[3])"
   ]
  },
  {
   "cell_type": "markdown",
   "id": "electric-destination",
   "metadata": {},
   "source": [
    "Try plotting the results of your study!"
   ]
  },
  {
   "cell_type": "code",
   "execution_count": null,
   "id": "through-rotation",
   "metadata": {},
   "outputs": [],
   "source": [
    "# Do some plotting here.\n"
   ]
  },
  {
   "cell_type": "markdown",
   "id": "thorough-material",
   "metadata": {},
   "source": [
    "## Next steps\n",
    "[Back to overview](welcome.ipynb)\n",
    "\n",
    "[Temperature bias experiments](temp_sensitivity.ipynb)\n"
   ]
  }
 ],
 "metadata": {
  "kernelspec": {
   "display_name": "cosipy",
   "language": "python",
   "name": "cosipy"
  },
  "language_info": {
   "codemirror_mode": {
    "name": "ipython",
    "version": 3
   },
   "file_extension": ".py",
   "mimetype": "text/x-python",
   "name": "python",
   "nbconvert_exporter": "python",
   "pygments_lexer": "ipython3",
   "version": "3.6.13"
  }
 },
 "nbformat": 4,
 "nbformat_minor": 5
}
