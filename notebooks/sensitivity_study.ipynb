{
 "cells": [
  {
   "cell_type": "markdown",
   "id": "judicial-headquarters",
   "metadata": {},
   "source": [
    "# Sensitivity studies using COSIPY\n",
    "\n",
    "In this tutorial we will go through how to do a sensitivity study of the surface mass balance of a glacier using COSIPY. For a sensitivity study we want to check how much changing a constant affects the calculation of a certain variables, i.e. how sensitive it is. We can do this on essentially any variable, but in our case we will focus on the surface mass balance of a glacier.\n",
    "\n",
    "Just as in [First steps in COSIPY](first_steps.ipynb) we begin with importing some useful libraries and the cosipy functions we need."
   ]
  },
  {
   "cell_type": "code",
   "execution_count": null,
   "id": "judicial-personal",
   "metadata": {},
   "outputs": [],
   "source": [
    "# Have to change the cwd for the ipython session, otherwise COSIPY\n",
    "# will look for things in the wrong places.\n",
    "import os\n",
    "import sys\n",
    "# This is not really a good method, if cell is re run we end up in the\n",
    "# wrong directory.\n",
    "os.chdir('./../')"
   ]
  },
  {
   "cell_type": "code",
   "execution_count": null,
   "id": "front-collector",
   "metadata": {},
   "outputs": [],
   "source": [
    "from cosipy.utils import edu_utils\n",
    "# cfg gives us the NAMELIST\n",
    "import cfg\n",
    "import numpy as np\n",
    "from matplotlib import pyplot as plt"
   ]
  },
  {
   "cell_type": "code",
   "execution_count": null,
   "id": "persistent-refund",
   "metadata": {},
   "outputs": [],
   "source": [
    "# Have to tell matplotlib to plot inline\n",
    "%matplotlib inline"
   ]
  },
  {
   "cell_type": "markdown",
   "id": "hundred-boulder",
   "metadata": {},
   "source": [
    "## Choosing the constant to investigate\n",
    "\n",
    "Before we can continue with setting up the simulations, we have to choose the constant we want to change. As you might remember, all the constants that are used by COSIPY are stored in the NAMELIST. Let's take a look at it"
   ]
  },
  {
   "cell_type": "code",
   "execution_count": null,
   "id": "prescription-madrid",
   "metadata": {},
   "outputs": [],
   "source": [
    "cfg.NAMELIST"
   ]
  },
  {
   "cell_type": "markdown",
   "id": "fleet-norman",
   "metadata": {},
   "source": [
    "This contains a lot of different things and can be a bit overwhelming at first. It contains everything from the configuration of where to store files to constants used in some of the submodules used for example calculating the densification of snow.\n",
    "\n",
    "If we plan to look at the surface mass balance in winter, the albedo of fresh  snow is a good guess of a variable that might have an impact on the calculations."
   ]
  },
  {
   "cell_type": "code",
   "execution_count": null,
   "id": "automated-google",
   "metadata": {},
   "outputs": [],
   "source": [
    "cfg.NAMELIST['albedo_fresh_snow']"
   ]
  },
  {
   "cell_type": "markdown",
   "id": "recent-refund",
   "metadata": {},
   "source": [
    "Let's say we want to change this 10% in either direction. Since the model is fetching the constants from `NAMELIST`, the plan is to change the albedo of fresh snow in `NAMELIST` before we use it to intialize the model."
   ]
  },
  {
   "cell_type": "markdown",
   "id": "integrated-structure",
   "metadata": {},
   "source": [
    "### Initializing the namelists and data files\n",
    "\n",
    "We begin by initialising three instances of the namelist. We then keep one as default while we change the albedo of fresh snow in the two others"
   ]
  },
  {
   "cell_type": "code",
   "execution_count": null,
   "id": "yellow-olive",
   "metadata": {},
   "outputs": [],
   "source": [
    "# We create a copy of the namelist so we don't change the original.\n",
    "# Default\n",
    "NAMELIST_def = cfg.NAMELIST.copy()\n",
    "# Up 10%\n",
    "NAMELIST_up = cfg.NAMELIST.copy()\n",
    "# We overwrite the default value. We multiply it from cfg since we can then\n",
    "# run the cell multiple times without performing the multiplication multiple\n",
    "# times.\n",
    "NAMELIST_up['albedo_fresh_snow'] = cfg.NAMELIST['albedo_fresh_snow'] * 1.1\n",
    "# Down 10%\n",
    "NAMELIST_dn =cfg.NAMELIST.copy()\n",
    "NAMELIST_dn['albedo_fresh_snow'] = cfg.NAMELIST['albedo_fresh_snow'] * 0.9"
   ]
  },
  {
   "cell_type": "markdown",
   "id": "individual-frederick",
   "metadata": {},
   "source": [
    "Did it work?"
   ]
  },
  {
   "cell_type": "code",
   "execution_count": null,
   "id": "korean-success",
   "metadata": {},
   "outputs": [],
   "source": [
    "print(f\"NAMELIST_dn: {NAMELIST_dn['albedo_fresh_snow']:.3f}\\nNAMELIST_def: \\\n",
    "{NAMELIST_def['albedo_fresh_snow']:.3f}\\nNAMELIST_up: \\\n",
    "{NAMELIST_up['albedo_fresh_snow']:.3f}\")"
   ]
  },
  {
   "cell_type": "markdown",
   "id": "pretty-artist",
   "metadata": {},
   "source": [
    "<div class=\"alert alert-warning\">\n",
    "    <b>Question: Can you figure out what to change in the cells above to alter the albedo by 5% instead of 10%?</b>\n",
    "</div>"
   ]
  },
  {
   "cell_type": "markdown",
   "id": "literary-portuguese",
   "metadata": {},
   "source": [
    "We can now go on to creating the files used for storing the data and results of the simulation. Just as with the namlist we need one set of instances for each experiment we want to run, in this case three. "
   ]
  },
  {
   "cell_type": "code",
   "execution_count": null,
   "id": "orange-bahamas",
   "metadata": {},
   "outputs": [],
   "source": [
    "# Default\n",
    "IO_def, DATA_def, RESULTS_def = edu_utils.create_IO(NAMELIST_def)\n",
    "# Up\n",
    "IO_up, DATA_up, RESULTS_up = edu_utils.create_IO(NAMELIST_up)\n",
    "# Down\n",
    "IO_dn, DATA_dn, RESULTS_dn = edu_utils.create_IO(NAMELIST_dn)"
   ]
  },
  {
   "cell_type": "markdown",
   "id": "super-dictionary",
   "metadata": {},
   "source": [
    "## Running multiple simulations\n",
    "\n",
    "We have now prepared the namelists and data/results files for the three different runs we want to do. The runs can initilaized as it was done in the [First steps in COSIPY](first_steps.ipynb) notebook, and changing the namelist and data/results variables manually for each run. But to save us writing the same code multiple times, and to give some inspiration how one might go about running a higher number of simulations, we will now do it in a loop. First we have to put all we need into a list"
   ]
  },
  {
   "cell_type": "code",
   "execution_count": null,
   "id": "assigned-japanese",
   "metadata": {},
   "outputs": [],
   "source": [
    "# List of lists with our experiments\n",
    "exp_list = [[NAMELIST_def, DATA_def, RESULTS_def, IO_def],\n",
    "            [NAMELIST_dn, DATA_dn, RESULTS_dn, IO_dn],\n",
    "            [NAMELIST_up, DATA_up, RESULTS_up, IO_up]\n",
    "           ]"
   ]
  },
  {
   "cell_type": "markdown",
   "id": "viral-bhutan",
   "metadata": {},
   "source": [
    "We can index this list to get the results of experiment 2 as `exp_list[1][2]`."
   ]
  },
  {
   "cell_type": "markdown",
   "id": "stable-straight",
   "metadata": {},
   "source": [
    "<div class=\"alert alert-info\">\n",
    "    <b>Remember that python is zero-indexed.</b>\n",
    "</div>"
   ]
  },
  {
   "cell_type": "markdown",
   "id": "backed-howard",
   "metadata": {},
   "source": [
    "Let's setup the loop and run the simulations. This will take some time."
   ]
  },
  {
   "cell_type": "code",
   "execution_count": null,
   "id": "asian-utilization",
   "metadata": {},
   "outputs": [],
   "source": [
    "for exp in exp_list:\n",
    "    # Call run_model once for each experiment\n",
    "    edu_utils.run_model(exp[1], exp[3], exp[0], exp[2])"
   ]
  },
  {
   "cell_type": "markdown",
   "id": "massive-judge",
   "metadata": {},
   "source": [
    "## A look at the results\n",
    "\n",
    "When the simulations has finished running it is time to take a look at the results. Since we're keeping the results in `exp_list` we can again leverage the power of loops to save us writing some code"
   ]
  },
  {
   "cell_type": "code",
   "execution_count": null,
   "id": "synthetic-library",
   "metadata": {},
   "outputs": [],
   "source": [
    "labels = ['Default', '-10%', '+10%']\n",
    "fig, ax = plt.subplots(figsize=(12, 5))\n",
    "for exp, label in zip(exp_list, labels):\n",
    "    # Get the data and plot it RESULTS are kept at the third spot, index 2\n",
    "    exp[2].surfMB.plot(ax=ax, label=label)\n",
    "plt.legend(); "
   ]
  },
  {
   "cell_type": "markdown",
   "id": "rental-conditions",
   "metadata": {},
   "source": [
    "<div class=\"alert alert-warning\">\n",
    "<details>\n",
    "    <summary>\n",
    "    <b>Question: Can you explain why the surface mass balance looks like it does?</b> <i>Click me for an explanation!</i></summary>\n",
    "<p>We are looking at three different surface mass balance series calculated with three different values for the albedo of fresh snow. The regular dips in the surface mass balance is the diurnal cycle, the glacier lose mass during the day while it remains constant during the night. When the albedo is increased the surface of the glacier will reflect more of the incoming solar radiation during the day. This leads to a decrease in the energy available for melt, thus reducing the melt and resulting in a less negative surface mass balance.\n",
    "<br><br>\n",
    "On the other hand, when the albedo is decreased the reflectivity of the glacier is reduced. This increases the energy available for melt which is why the surface mass balance is more negative.</p>\n",
    "</details>\n",
    "</div>"
   ]
  },
  {
   "cell_type": "markdown",
   "id": "casual-retail",
   "metadata": {},
   "source": [
    "*Here you can write your answer (double click to open the cell)* \n"
   ]
  },
  {
   "cell_type": "markdown",
   "id": "according-physiology",
   "metadata": {},
   "source": [
    "## Another sensitivity study\n",
    "\n",
    "Try to come up with another variable to use for a sensitivity study. The loop for running the simulation is provided below, but you have to initialise the namelist(s), data and result files and the list containing your experiments."
   ]
  },
  {
   "cell_type": "code",
   "execution_count": null,
   "id": "assured-burke",
   "metadata": {},
   "outputs": [],
   "source": [
    "# Pick a variable to nudge\n"
   ]
  },
  {
   "cell_type": "code",
   "execution_count": null,
   "id": "bridal-america",
   "metadata": {},
   "outputs": [],
   "source": [
    "# Initialise the namelists and datafiles\n"
   ]
  },
  {
   "cell_type": "code",
   "execution_count": null,
   "id": "organized-masters",
   "metadata": {},
   "outputs": [],
   "source": [
    "# Pack it all into a list as above\n"
   ]
  },
  {
   "cell_type": "markdown",
   "id": "written-prefix",
   "metadata": {},
   "source": [
    "<div class=\"alert alert-info\">\n",
    "    Are you ready to run the simulation?\n",
    "</div>"
   ]
  },
  {
   "cell_type": "code",
   "execution_count": null,
   "id": "educated-apollo",
   "metadata": {},
   "outputs": [],
   "source": [
    "for exp in exp_list:\n",
    "    # Call run_model once for each experiment\n",
    "    edu_utils.run_model(exp[1], exp[3], exp[0], exp[2])"
   ]
  },
  {
   "cell_type": "markdown",
   "id": "julian-gambling",
   "metadata": {},
   "source": [
    "Try plotting the results of your study!"
   ]
  },
  {
   "cell_type": "code",
   "execution_count": null,
   "id": "weird-condition",
   "metadata": {},
   "outputs": [],
   "source": [
    "# Do some plotting here.\n"
   ]
  },
  {
   "cell_type": "markdown",
   "id": "sought-possibility",
   "metadata": {},
   "source": [
    "## Next steps\n",
    "[Back to overview](welcome.ipynb)\n",
    "\n",
    "[Temperature bias experiments](temp_sensitivity.ipynb)\n"
   ]
  }
 ],
 "metadata": {
  "kernelspec": {
   "display_name": "Python 3",
   "language": "python",
   "name": "python3"
  },
  "language_info": {
   "codemirror_mode": {
    "name": "ipython",
    "version": 3
   },
   "file_extension": ".py",
   "mimetype": "text/x-python",
   "name": "python",
   "nbconvert_exporter": "python",
   "pygments_lexer": "ipython3",
   "version": "3.8.3"
  }
 },
 "nbformat": 4,
 "nbformat_minor": 5
}
